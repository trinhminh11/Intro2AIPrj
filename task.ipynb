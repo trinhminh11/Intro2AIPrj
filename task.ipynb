{
 "cells": [
  {
   "cell_type": "markdown",
   "metadata": {},
   "source": [
    "#### task1:\n",
    "create function \"to_grid\"\n",
    "\n",
    "input:\n",
    "\n",
    "- 1000*1000 2Darray, array[i][j] = -1 if it's a obstacle, 1 if it's your position, 10 if it's your destination, 0 otherwise\n",
    "\n",
    "- cell_size = 10\n",
    "\n",
    "output:\n",
    "\n",
    "- 2Darray after compressing data to grid, grid[i][j] = -1 if grid contain obstacle, 1 if it's your position, 10 if it's your destination, 0 otherwise\n",
    "\n"
   ]
  },
  {
   "cell_type": "code",
   "execution_count": null,
   "metadata": {
    "vscode": {
     "languageId": "plaintext"
    }
   },
   "outputs": [],
   "source": []
  },
  {
   "cell_type": "markdown",
   "metadata": {},
   "source": [
    "#### task2:\n",
    "create function \"Astar\"\n",
    "\n",
    "input:\n",
    "\n",
    "- grid from task1\n",
    "\n",
    "output:\n",
    "\n",
    "- 2Darray: 1 -> start position, 5 -> path, 10 -> destination, 0 otherwise\n",
    "\n"
   ]
  },
  {
   "cell_type": "code",
   "execution_count": null,
   "metadata": {
    "vscode": {
     "languageId": "plaintext"
    }
   },
   "outputs": [],
   "source": []
  }
 ],
 "metadata": {
  "language_info": {
   "name": "python"
  }
 },
 "nbformat": 4,
 "nbformat_minor": 2
}
